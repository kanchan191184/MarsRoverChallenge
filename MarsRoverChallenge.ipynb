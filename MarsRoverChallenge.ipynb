{
  "nbformat": 4,
  "nbformat_minor": 0,
  "metadata": {
    "colab": {
      "provenance": [],
      "authorship_tag": "ABX9TyO+6W7KDZiSY1n3wnrRLx4z",
      "include_colab_link": true
    },
    "kernelspec": {
      "name": "python3",
      "display_name": "Python 3"
    },
    "language_info": {
      "name": "python"
    }
  },
  "cells": [
    {
      "cell_type": "markdown",
      "metadata": {
        "id": "view-in-github",
        "colab_type": "text"
      },
      "source": [
        "<a href=\"https://colab.research.google.com/github/kanchan191184/MarsRoverChallenge/blob/main/MarsRoverChallenge.ipynb\" target=\"_parent\"><img src=\"https://colab.research.google.com/assets/colab-badge.svg\" alt=\"Open In Colab\"/></a>"
      ]
    },
    {
      "cell_type": "code",
      "execution_count": 1,
      "metadata": {
        "id": "fn6Sao-hCsmk"
      },
      "outputs": [],
      "source": [
        "\n",
        "class Rover:\n",
        "    def __init__(self, x, y, direction):\n",
        "        self.x = x\n",
        "        self.y = y\n",
        "        self.direction = direction\n",
        "\n",
        "    def move(self):\n",
        "        if self.direction == 'N':\n",
        "            self.y += 1\n",
        "        elif self.direction == 'E':\n",
        "            self.x += 1\n",
        "        elif self.direction == 'S':\n",
        "            self.y -= 1\n",
        "        elif self.direction == 'W':\n",
        "            self.x -= 1\n",
        "\n",
        "    def turn_left(self):\n",
        "        if self.direction == 'N':\n",
        "            self.direction = 'W'\n",
        "        elif self.direction == 'E':\n",
        "            self.direction = 'N'\n",
        "        elif self.direction == 'S':\n",
        "            self.direction = 'E'\n",
        "        elif self.direction == 'W':\n",
        "            self.direction = 'S'\n",
        "\n",
        "    def turn_right(self):\n",
        "        if self.direction == 'N':\n",
        "            self.direction = 'E'\n",
        "        elif self.direction == 'E':\n",
        "            self.direction = 'S'\n",
        "        elif self.direction == 'S':\n",
        "            self.direction = 'W'\n",
        "        elif self.direction == 'W':\n",
        "            self.direction = 'N'\n",
        "\n",
        "    def process_instructions(self, instructions):\n",
        "        for instruction in instructions:\n",
        "            if instruction == 'M':\n",
        "                self.move()\n",
        "            elif instruction == 'L':\n",
        "                self.turn_left()\n",
        "            elif instruction == 'R':\n",
        "                self.turn_right()\n",
        "\n",
        "    def get_position(self):\n",
        "        return f\"{self.x} {self.y} {self.direction}\"\n"
      ]
    },
    {
      "cell_type": "code",
      "source": [
        "def run_mars_rovers_challenge(upper_right, rovers):\n",
        "    plateau_x, plateau_y = map(int, upper_right.split())\n",
        "    rover_list = []\n",
        "\n",
        "    for rover in rovers:\n",
        "        x, y, direction = rover[0].split()\n",
        "        instructions = rover[1].strip()\n",
        "\n",
        "        new_rover = Rover(int(x), int(y), direction)\n",
        "        new_rover.process_instructions(instructions)\n",
        "\n",
        "        rover_list.append(new_rover)\n",
        "\n",
        "    for rover in rover_list:\n",
        "        print(rover.get_position())"
      ],
      "metadata": {
        "id": "cMKrj7lgDSUG"
      },
      "execution_count": 2,
      "outputs": []
    },
    {
      "cell_type": "code",
      "source": [
        "# Test Input\n",
        "upper_right_input = \"5 5\"\n",
        "rovers_input = [\n",
        "    [\"1 2 N\", \"LMLMLMLMM\"],\n",
        "    [\"3 3 E\", \"MMRMMRMRRM\"]\n",
        "]\n",
        "\n",
        "run_mars_rovers_challenge(upper_right_input, rovers_input)"
      ],
      "metadata": {
        "colab": {
          "base_uri": "https://localhost:8080/"
        },
        "id": "m5quLiY9DOdI",
        "outputId": "461e9bde-c0c6-4d22-c20f-277052529673"
      },
      "execution_count": 3,
      "outputs": [
        {
          "output_type": "stream",
          "name": "stdout",
          "text": [
            "1 3 N\n",
            "5 1 E\n"
          ]
        }
      ]
    }
  ]
}